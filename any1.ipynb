{
 "cells": [
  {
   "cell_type": "code",
   "execution_count": 4,
   "metadata": {},
   "outputs": [],
   "source": [
    "import pandas as pd"
   ]
  },
  {
   "cell_type": "code",
   "execution_count": 5,
   "metadata": {},
   "outputs": [
    {
     "data": {
      "text/html": [
       "<div>\n",
       "<style scoped>\n",
       "    .dataframe tbody tr th:only-of-type {\n",
       "        vertical-align: middle;\n",
       "    }\n",
       "\n",
       "    .dataframe tbody tr th {\n",
       "        vertical-align: top;\n",
       "    }\n",
       "\n",
       "    .dataframe thead th {\n",
       "        text-align: right;\n",
       "    }\n",
       "</style>\n",
       "<table border=\"1\" class=\"dataframe\">\n",
       "  <thead>\n",
       "    <tr style=\"text-align: right;\">\n",
       "      <th></th>\n",
       "      <th>order number</th>\n",
       "      <th>costumer name</th>\n",
       "      <th>dis</th>\n",
       "      <th>Customer's field of work</th>\n",
       "      <th>price</th>\n",
       "      <th>Creation time</th>\n",
       "      <th>order type</th>\n",
       "      <th>bill type</th>\n",
       "      <th>Completion time</th>\n",
       "      <th>payment method</th>\n",
       "      <th>discount</th>\n",
       "      <th>amount received</th>\n",
       "      <th>remaining amount</th>\n",
       "    </tr>\n",
       "  </thead>\n",
       "  <tbody>\n",
       "    <tr>\n",
       "      <th>0</th>\n",
       "      <td>1</td>\n",
       "      <td>الحسن حسين</td>\n",
       "      <td>التداول</td>\n",
       "      <td>متداول</td>\n",
       "      <td>1000</td>\n",
       "      <td>2024-10-02 22:07:06</td>\n",
       "      <td>نظام اداره زبائم</td>\n",
       "      <td>Invoice</td>\n",
       "      <td>2024-10-10</td>\n",
       "      <td>Direct payment</td>\n",
       "      <td>200</td>\n",
       "      <td>500</td>\n",
       "      <td>300</td>\n",
       "    </tr>\n",
       "    <tr>\n",
       "      <th>1</th>\n",
       "      <td>2</td>\n",
       "      <td>علي حليم</td>\n",
       "      <td>مبرمج في شركه اسمها dataflow</td>\n",
       "      <td>مبرمج</td>\n",
       "      <td>500</td>\n",
       "      <td>2024-10-03 19:18:09</td>\n",
       "      <td>dashpoard</td>\n",
       "      <td>Invoice</td>\n",
       "      <td>2024-10-07</td>\n",
       "      <td>Direct payment</td>\n",
       "      <td>0</td>\n",
       "      <td>300</td>\n",
       "      <td>200</td>\n",
       "    </tr>\n",
       "  </tbody>\n",
       "</table>\n",
       "</div>"
      ],
      "text/plain": [
       "   order number costumer name                           dis  \\\n",
       "0             1    الحسن حسين                       التداول   \n",
       "1             2      علي حليم  مبرمج في شركه اسمها dataflow   \n",
       "\n",
       "  Customer's field of work  price        Creation time        order type  \\\n",
       "0                   متداول   1000  2024-10-02 22:07:06  نظام اداره زبائم   \n",
       "1                    مبرمج    500  2024-10-03 19:18:09         dashpoard   \n",
       "\n",
       "  bill type Completion time  payment method  discount  amount received  \\\n",
       "0   Invoice      2024-10-10  Direct payment       200              500   \n",
       "1   Invoice      2024-10-07  Direct payment         0              300   \n",
       "\n",
       "   remaining amount  \n",
       "0               300  \n",
       "1               200  "
      ]
     },
     "execution_count": 5,
     "metadata": {},
     "output_type": "execute_result"
    }
   ],
   "source": [
    "df = pd.read_csv(r'C:\\Users\\rf\\Desktop\\dataflow\\dataflow_system\\dataflow_system\\data\\coustumer data.csv')\n",
    "df"
   ]
  },
  {
   "cell_type": "code",
   "execution_count": 20,
   "metadata": {},
   "outputs": [
    {
     "data": {
      "text/plain": [
       "1000"
      ]
     },
     "execution_count": 20,
     "metadata": {},
     "output_type": "execute_result"
    }
   ],
   "source": [
    "df[df['order number']==1]['price'].values[0]"
   ]
  },
  {
   "cell_type": "code",
   "execution_count": 30,
   "metadata": {},
   "outputs": [
    {
     "data": {
      "text/plain": [
       "2"
      ]
     },
     "execution_count": 30,
     "metadata": {},
     "output_type": "execute_result"
    }
   ],
   "source": [
    "df['order number'].max()"
   ]
  },
  {
   "cell_type": "code",
   "execution_count": 33,
   "metadata": {},
   "outputs": [
    {
     "data": {
      "text/plain": [
       "'علي حليم'"
      ]
     },
     "execution_count": 33,
     "metadata": {},
     "output_type": "execute_result"
    },
    {
     "ename": "",
     "evalue": "",
     "output_type": "error",
     "traceback": [
      "\u001b[1;31mThe Kernel crashed while executing code in the current cell or a previous cell. \n",
      "\u001b[1;31mPlease review the code in the cell(s) to identify a possible cause of the failure. \n",
      "\u001b[1;31mClick <a href='https://aka.ms/vscodeJupyterKernelCrash'>here</a> for more info. \n",
      "\u001b[1;31mView Jupyter <a href='command:jupyter.viewOutput'>log</a> for further details."
     ]
    }
   ],
   "source": [
    "df[df['order number']==2]['costumer name'].values[0]"
   ]
  },
  {
   "cell_type": "code",
   "execution_count": 32,
   "metadata": {},
   "outputs": [
    {
     "data": {
      "text/plain": [
       "'متداول'"
      ]
     },
     "execution_count": 32,
     "metadata": {},
     "output_type": "execute_result"
    }
   ],
   "source": [
    "df[df['order number']==1][\"Customer's field of work\"].values[0]"
   ]
  }
 ],
 "metadata": {
  "kernelspec": {
   "display_name": "base",
   "language": "python",
   "name": "python3"
  },
  "language_info": {
   "codemirror_mode": {
    "name": "ipython",
    "version": 3
   },
   "file_extension": ".py",
   "mimetype": "text/x-python",
   "name": "python",
   "nbconvert_exporter": "python",
   "pygments_lexer": "ipython3",
   "version": "3.12.4"
  }
 },
 "nbformat": 4,
 "nbformat_minor": 2
}
